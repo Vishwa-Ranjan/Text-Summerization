{
 "cells": [
  {
   "cell_type": "code",
   "execution_count": 1,
   "metadata": {},
   "outputs": [],
   "source": [
    "# # # import the required libraries\n",
    "\n",
    "# frequency based approach\n",
    "\n",
    "\n",
    "\n",
    "import nltk\n",
    "import sklearn\n",
    "# # # punkt tokenizer for sentence tokenization\n",
    "# nltk.download('punkt') \n",
    "\n",
    "# nltk.download('stopwords') \n",
    "\n",
    "from collections import Counter # Imports the Counter class from the collections module, used for counting the frequency of words in a text.\n",
    "from nltk.corpus import stopwords # Imports the stop words list from the NLTK corpus\n",
    "# corpus is a large collection of text or speech data used for statistical analysis\n",
    "\n",
    "from nltk.tokenize import sent_tokenize, word_tokenize # Imports the sentence tokenizer and word tokenizer \n",
    "\n",
    "def generate_summaryfba(text, n):\n",
    "   # Tokenize the text into individual sentences\n",
    "   sentences = sent_tokenize(text)\n",
    "\n",
    "   # Tokenize each sentence into individual words and remove stopwords\n",
    "   stop_words = set(stopwords.words('english'))\n",
    "\n",
    "   words = [word.lower() for word in word_tokenize(text) if word.lower() not in stop_words and word.isalnum()]\n",
    "\n",
    "   # Compute the frequency of each word\n",
    "   word_freq = Counter(words)\n",
    "\n",
    "\n",
    "   sentence_scores = {}\n",
    "\n",
    "   for sentence in sentences:\n",
    "      sentence_words = [word.lower() for word in word_tokenize(sentence) if word.lower() not in stop_words and word.isalnum()]\n",
    "      sentence_score = sum([word_freq[word] for word in sentence_words])\n",
    "      if len(sentence_words) < 15:\n",
    "         sentence_scores[sentence] = sentence_score\n",
    "\n",
    "# # # checks if the length of the sentence_words list is less than 15 (parameter can be adjusted based on the desired length of summary sentences)\n",
    "# # # If condition -> true, score of the current sentence is added to the sentence_scores dictionary with the sentence itself as the key\n",
    "# # # This is to filter out very short sentences that may not provide meaningful information for summary generation\n",
    "\n",
    "# # # Select the top n sentences with the highest scores\n",
    "   summary_sentences = sorted(sentence_scores, key=sentence_scores.get, reverse=True)[:n]\n",
    "   summary = ' '.join(summary_sentences)\n",
    "\n",
    "   return summary"
   ]
  },
  {
   "cell_type": "code",
   "execution_count": 2,
   "metadata": {},
   "outputs": [],
   "source": [
    "#Text Rank Algorithm\n",
    "\n",
    "import re\n",
    "\n",
    "import numpy as np\n",
    "from nltk import sent_tokenize, word_tokenize\n",
    "\n",
    "from nltk.cluster.util import cosine_distance\n",
    "\n",
    "MULTIPLE_WHITESPACE_PATTERN = re.compile(r\"\\s+\", re.UNICODE)\n",
    "\n",
    "def _replace_whitespace(match):\n",
    "    text = match.group()\n",
    "\n",
    "    if \"\\n\" in text or \"\\r\" in text:\n",
    "        return \"\\n\"\n",
    "    else:\n",
    "        return \" \"\n",
    "\n",
    "def normalize_whitespace(text):\n",
    "    \"\"\"\n",
    "    Translates multiple whitespace into single space character.\n",
    "    If there is at least one new line character chunk is replaced\n",
    "    by single LF (Unix new line) character.\n",
    "    \"\"\"\n",
    "    return MULTIPLE_WHITESPACE_PATTERN.sub(_replace_whitespace, text)\n",
    "\n",
    "def symmetrize(a):\n",
    "    \"\"\"\n",
    "    Return a symmetrized version of NumPy array a.\n",
    "\n",
    "    Values 0 are replaced by the array value at the symmetric\n",
    "    position (with respect to the diagonal), i.e. if a_ij = 0,\n",
    "    then the returned array a' is such that a'_ij = a_ji.\n",
    "\n",
    "    Diagonal values are left untouched.\n",
    "\n",
    "    a -- square NumPy array, such that a_ij = 0 or a_ji = 0, \n",
    "    for i != j.\n",
    "    \"\"\"\n",
    "    return a + a.T - np.diag(a.diagonal())\n",
    "\n",
    "\n",
    "\n",
    "\n",
    "\n",
    "def core_cosine_similarity(vector1, vector2):\n",
    "    \"\"\"\n",
    "    measure cosine similarity between two vectors\n",
    "    :param vector1:\n",
    "    :param vector2:\n",
    "    :return: 0 < cosine similarity value < 1\n",
    "    \"\"\"\n",
    "    return 1 - cosine_distance(vector1, vector2)\n",
    "\n",
    "\n",
    "\n",
    "\n",
    "\n",
    "def sentence_similarity(sent1, sent2, stopwords=None):\n",
    "    if stopwords is None:\n",
    "        stopwords = []\n",
    "\n",
    "    sent1 = [w.lower() for w in sent1]\n",
    "    sent2 = [w.lower() for w in sent2]\n",
    "\n",
    "    all_words = list(set(sent1 + sent2))\n",
    "\n",
    "    vector1 = [0] * len(all_words)\n",
    "    vector2 = [0] * len(all_words)\n",
    "\n",
    "    # build the vector for the first sentence\n",
    "    for w in sent1:\n",
    "        if w in stopwords:\n",
    "            continue\n",
    "        vector1[all_words.index(w)] += 1\n",
    "\n",
    "    # build the vector for the second sentence\n",
    "    for w in sent2:\n",
    "        if w in stopwords:\n",
    "            continue\n",
    "        vector2[all_words.index(w)] += 1\n",
    "\n",
    "    return core_cosine_similarity(vector1, vector2)\n",
    "\n",
    "\n",
    "\n",
    "\n",
    "\n",
    "def build_similarity_matrix(sentences, stopwords=None):\n",
    "    # create an empty similarity matrix\n",
    "    sm = np.zeros([len(sentences), len(sentences)])\n",
    "\n",
    "    for idx1 in range(len(sentences)):\n",
    "        for idx2 in range(len(sentences)):\n",
    "            if idx1 == idx2:\n",
    "                continue\n",
    "\n",
    "            sm[idx1][idx2] = sentence_similarity(sentences[idx1], sentences[idx2], stopwords=stopwords)\n",
    "\n",
    "    # Get Symmeric matrix\n",
    "    sm = symmetrize(sm)\n",
    "\n",
    "    # Normalize matrix by column\n",
    "    norm = np.sum(sm, axis=0)\n",
    "    sm_norm = np.divide(sm, norm, where=norm != 0)  # this is to ignore the 0 element in norm\n",
    "\n",
    "    return sm_norm\n",
    "\n",
    "\n",
    "\n",
    "\n",
    "def run_page_rank(similarity_matrix):\n",
    "\n",
    "    # constants\n",
    "    damping = 0.85  # damping coefficient, usually is .85\n",
    "    min_diff = 1e-5  # convergence threshold\n",
    "    steps = 100  # iteration steps\n",
    "\n",
    "    pr_vector = np.array([1] * len(similarity_matrix))\n",
    "\n",
    "    # Iteration\n",
    "    previous_pr = 0\n",
    "    for epoch in range(steps):\n",
    "        pr_vector = (1 - damping) + damping * np.matmul(similarity_matrix, pr_vector)\n",
    "        if abs(previous_pr - sum(pr_vector)) < min_diff:\n",
    "            break\n",
    "        else:\n",
    "            previous_pr = sum(pr_vector)\n",
    "\n",
    "    return pr_vector\n",
    "\n",
    "def get_top_sentences(pr_vector, sentences, number=3):\n",
    "\n",
    "    top_sentences = []\n",
    "\n",
    "    if pr_vector is not None:\n",
    "\n",
    "        sorted_pr = np.argsort(pr_vector)\n",
    "        sorted_pr = list(sorted_pr)\n",
    "        sorted_pr.reverse()\n",
    "\n",
    "        index = 0\n",
    "        for epoch in range(number):\n",
    "            sent = sentences[sorted_pr[index]]\n",
    "            sent = normalize_whitespace(sent)\n",
    "            top_sentences.append(sent)\n",
    "            index += 1\n",
    "\n",
    "    return top_sentences\n",
    "\n",
    "\n",
    "\n",
    "def generateTextRank(text_str):\n",
    "  sentences = sent_tokenize(text_str)\n",
    "  tokenized_sentences = [word_tokenize(sent) for sent in sentences]\n",
    "  sm_mat = build_similarity_matrix(tokenized_sentences)\n",
    "  pr_vec = run_page_rank(sm_mat)\n",
    "  ans = get_top_sentences(pr_vec,sentences)\n",
    "  return ans"
   ]
  },
  {
   "cell_type": "code",
   "execution_count": 3,
   "metadata": {},
   "outputs": [],
   "source": [
    "# importing the required libraries\n",
    "# importing TfidfVectorizer class to convert a collection of raw documents to a matrix of TF-IDF features.\n",
    "\n",
    "\n",
    "#TF-IDF Approach\n",
    "\n",
    "from sklearn.feature_extraction.text import TfidfVectorizer\n",
    "\n",
    "# importing cosine_similarity function to compute the cosine similarity between two vectors.\n",
    "from sklearn.metrics.pairwise import cosine_similarity\n",
    "\n",
    "# importing nlargest to return the n largest elements from an iterable in descending order.\n",
    "from heapq import nlargest\n",
    "\n",
    "def generate_summarytfidf(text, n):\n",
    "# Tokenize the text into individual sentences\n",
    "    sentences = sent_tokenize(text)\n",
    "\n",
    "    # Create the TF-IDF matrix\n",
    "    vectorizer = TfidfVectorizer(stop_words='english')\n",
    "    tfidf_matrix = vectorizer.fit_transform(sentences)\n",
    "\n",
    "    # Compute the cosine similarity between each sentence and the document\n",
    "    sentence_scores = cosine_similarity(tfidf_matrix[-1], tfidf_matrix[:-1])[0]\n",
    "\n",
    "    # Select the top n sentences with the highest scores\n",
    "    summary_sentences = nlargest(n, range(len(sentence_scores)), key=sentence_scores.__getitem__)\n",
    "\n",
    "    summary_tfidf = ' '.join([sentences[i] for i in sorted(summary_sentences)])\n",
    "\n",
    "    return summary_tfidf"
   ]
  },
  {
   "cell_type": "code",
   "execution_count": 4,
   "metadata": {},
   "outputs": [],
   "source": [
    "# Clustering method Tf-idf \n",
    "\n",
    "\n",
    "\n",
    "import string\n",
    "import collections\n",
    "import pandas as pd\n",
    "import os, glob, sys\n",
    " \n",
    "from nltk import word_tokenize\n",
    "from nltk.stem import PorterStemmer\n",
    "from nltk.corpus import stopwords\n",
    "from sklearn.cluster import KMeans\n",
    "from sklearn.feature_extraction.text import TfidfVectorizer\n",
    "from pprint import pprint\n",
    "\n",
    "def process_text(text, stem=True):\n",
    "    \"\"\" Tokenize text and stem words removing punctuation \"\"\"\n",
    "    text = text.translate(string.punctuation)\n",
    "    tokens = word_tokenize(text)\n",
    " \n",
    "    if stem:\n",
    "        stemmer = PorterStemmer()\n",
    "        tokens = [stemmer.stem(t) for t in tokens]\n",
    " \n",
    "    return tokens\n",
    "\n",
    "def cluster_texts(texts, clusters=3):\n",
    "    \"\"\" Transform texts to Tf-Idf coordinates and cluster texts using K-Means \"\"\"\n",
    "    vectorizer = TfidfVectorizer(tokenizer=process_text,\n",
    "                                 stop_words=stopwords.words('english'),\n",
    "                                 max_df=0.5,\n",
    "                                 min_df=0.1,\n",
    "                                 lowercase=True)\n",
    " \n",
    "    \n",
    "    tfidf_model = vectorizer.fit_transform(texts)\n",
    "    km_model = KMeans(n_clusters=clusters)\n",
    "    km_model.fit(tfidf_model)\n",
    " \n",
    "    clustering = collections.defaultdict(list)\n",
    " \n",
    "    for idx, label in enumerate(km_model.labels_):\n",
    "        clustering[label].append(idx)\n",
    " \n",
    "    return clustering"
   ]
  },
  {
   "cell_type": "code",
   "execution_count": 7,
   "metadata": {},
   "outputs": [
    {
     "name": "stdout",
     "output_type": "stream",
     "text": [
      "2560\n",
      "1209\n",
      "1919\n",
      "['But its film division saw profits slump 27% to $284m, helped by box-office flops Alexander and Catwoman, a sharp contrast to year-earlier, when the third and final film in the Lord of the Rings trilogy boosted results.', 'For the full-year, TimeWarner posted a profit of $3.36bn, up 27% from its 2003 performance, while revenues grew 6.4% to $42.09bn.', 'It has already offered to pay $300m to settle charges, in a deal that is under review by the SEC.']\n"
     ]
    }
   ],
   "source": [
    "f  = open(\"C:/Users/KIIT/Downloads/Minor Project/Summarizer-Extractive/DataSet/BBC News Summary/News Articles/business/001.txt\",\"rt\")\n",
    "x = f.read()\n",
    "print(len(x))\n",
    "y = generate_summaryfba(x, 15)\n",
    "print(len(y))\n",
    "y = generate_summarytfidf(x, 15)\n",
    "print(len(y))\n",
    "\n",
    "y = generateTextRank(x)\n",
    "print(y)\n",
    "\n",
    "# #K-Means Clustering\n",
    "# articles = [\"Help\"]\n",
    "# datapath = ['./Data_collection/']\n",
    "# for document_path in datapath:\n",
    "#     for document_file in glob.glob(os.path.join(document_path, '*.csv')):\n",
    "#         with open(document_file, \"r+\") as doc:\n",
    "#             inputd = doc.read()\n",
    "#             articles.append(inputd)\n",
    "#             print(inputd)"
   ]
  },
  {
   "cell_type": "code",
   "execution_count": 9,
   "metadata": {},
   "outputs": [],
   "source": [
    "# We have 4 Summarization Algorithm.\n",
    "# Now , we have to run each and every article and record the summaries genererated by each algorithm.\n",
    "# Now , we will give ROGUE score to each article by comparing it to the reference summary given in the dataset.\n",
    "# After getting the scores, we will agregate the score and compare the ROGUE score of each algorithm and decide which one to use finally. \n",
    "\n",
    "\n",
    "\n",
    "# Check the ROGUE score of each algorithm and decide which one to use finally.\n",
    "\n",
    "# 1. generatesummaryfba\n",
    "# 2. generate_summarytfidf\n",
    "# 3. generateTextRank\n",
    "# 4. cluster_texts\n",
    "\n",
    "# calculate rouge generatesummaryfba\n",
    "\n",
    "# import rouge\n",
    "from rouge import Rouge\n",
    "\n",
    "def getRouge(x,y):\n",
    "\n",
    "    rg=Rouge()\n",
    "\n",
    "    return rg.get_scores(x,y)\n",
    "\n"
   ]
  },
  {
   "cell_type": "code",
   "execution_count": 11,
   "metadata": {},
   "outputs": [
    {
     "name": "stdout",
     "output_type": "stream",
     "text": [
      "5 5\n",
      "C:/Users/KIIT/Downloads/Minor Project/Summarizer-Extractive/DataSet/BBC News Summary/News Articles/business\\001.txt\n",
      "C:/Users/KIIT/Downloads/Minor Project/Summarizer-Extractive/DataSet/BBC News Summary/Summaries/business\\001.txt\n"
     ]
    }
   ],
   "source": [
    "\n",
    "article_dir='C:/Users/KIIT/Downloads/Minor Project/Summarizer-Extractive/DataSet/BBC News Summary/News Articles/'\n",
    "summary_dir='C:/Users/KIIT/Downloads/Minor Project/Summarizer-Extractive/DataSet/BBC News Summary/Summaries/'\n",
    "\n",
    "import os\n",
    "\n",
    "article_subdirs = [x[0] for x in os.walk(article_dir)]\n",
    "article_subdirs = article_subdirs[1:]\n",
    "\n",
    "summary_subdirs = [x[0] for x in os.walk(summary_dir)]\n",
    "summary_subdirs = summary_subdirs[1:]\n",
    "\n",
    "# get top 20 articles from each category\n",
    "\n",
    "def get_top_articles(subdir):\n",
    "    articles = []\n",
    "    \n",
    "    for file in os.listdir(subdir):\n",
    "        if file.endswith(\".txt\"):\n",
    "            \n",
    "            articles.append(os.path.join(subdir, file))\n",
    "\n",
    "    return articles[:20]\n",
    "\n",
    "\n",
    "\n",
    "articles_list = []\n",
    "summary_list = []\n",
    "\n",
    "for subdir in article_subdirs:\n",
    "    articles_list.append(get_top_articles(subdir))\n",
    "\n",
    "\n",
    "for subdir in summary_subdirs:\n",
    "    summary_list.append(get_top_articles(subdir))\n",
    "\n",
    "\n",
    "print(len(articles_list), len(summary_list))\n",
    "\n",
    "print(articles_list[0][0])\n",
    "print(summary_list[0][0])"
   ]
  },
  {
   "cell_type": "code",
   "execution_count": 12,
   "metadata": {},
   "outputs": [
    {
     "name": "stdout",
     "output_type": "stream",
     "text": [
      "100 100\n"
     ]
    }
   ],
   "source": [
    "\n",
    "articles=[]\n",
    "summary=[]\n",
    "\n",
    "for i in articles_list:\n",
    "    for j in i:\n",
    "        # read the file\n",
    "        f  = open(j,\"rt\")\n",
    "        x = f.read()\n",
    "\n",
    "        articles.append(x)\n",
    "\n",
    "\n",
    "for i in summary_list:\n",
    "    for j in i:\n",
    "        # read the file\n",
    "        f  = open(j,\"rt\")\n",
    "        x = f.read()\n",
    "        summary.append(x)\n",
    "\n",
    "\n",
    "print(len(articles),len(summary))"
   ]
  },
  {
   "cell_type": "code",
   "execution_count": 13,
   "metadata": {},
   "outputs": [
    {
     "name": "stdout",
     "output_type": "stream",
     "text": [
      "100 100 100\n"
     ]
    }
   ],
   "source": [
    "\n",
    "pred_summary_fba=[]\n",
    "pred_summary_tfidf=[]\n",
    "pred_summary_textRank=[]\n",
    "\n",
    "for i in articles:\n",
    "\n",
    "    a=generate_summaryfba(i,1)\n",
    "    pred_summary_fba.append(a)\n",
    "\n",
    "    b=generate_summarytfidf(i,1)\n",
    "    pred_summary_tfidf.append(b)\n",
    "\n",
    "    c=generateTextRank(i)\n",
    "    pred_summary_textRank.append(c)\n",
    "\n",
    "\n",
    "print(len(pred_summary_fba),len(pred_summary_tfidf),len(pred_summary_textRank))"
   ]
  },
  {
   "cell_type": "code",
   "execution_count": 14,
   "metadata": {},
   "outputs": [
    {
     "name": "stdout",
     "output_type": "stream",
     "text": [
      "Actual Article:   Ad sales boost Time Warner profit\n",
      "\n",
      "Quarterly profits at US media giant TimeWarner jumped 76% to $1.13bn (Â£600m) for the three months to December, from $639m year-earlier.\n",
      "\n",
      "The firm, which is now one of the biggest investors in Google, benefited from sales of high-speed internet connections and higher advert sales. TimeWarner said fourth quarter sales rose 2% to $11.1bn from $10.9bn. Its profits were buoyed by one-off gains which offset a profit dip at Warner Bros, and less users for AOL.\n",
      "\n",
      "Time Warner said on Friday that it now owns 8% of search-engine Google. But its own internet business, AOL, had has mixed fortunes. It lost 464,000 subscribers in the fourth quarter profits were lower than in the preceding three quarters. However, the company said AOL's underlying profit before exceptional items rose 8% on the back of stronger internet advertising revenues. It hopes to increase subscribers by offering the online service free to TimeWarner internet customers and will try to sign up AOL's existing customers for high-speed broadband. TimeWarner also has to restate 2000 and 2003 results following a probe by the US Securities Exchange Commission (SEC), which is close to concluding.\n",
      "\n",
      "Time Warner's fourth quarter profits were slightly better than analysts' expectations. But its film division saw profits slump 27% to $284m, helped by box-office flops Alexander and Catwoman, a sharp contrast to year-earlier, when the third and final film in the Lord of the Rings trilogy boosted results. For the full-year, TimeWarner posted a profit of $3.36bn, up 27% from its 2003 performance, while revenues grew 6.4% to $42.09bn. \"Our financial performance was strong, meeting or exceeding all of our full-year objectives and greatly enhancing our flexibility,\" chairman and chief executive Richard Parsons said. For 2005, TimeWarner is projecting operating earnings growth of around 5%, and also expects higher revenue and wider profit margins.\n",
      "\n",
      "TimeWarner is to restate its accounts as part of efforts to resolve an inquiry into AOL by US market regulators. It has already offered to pay $300m to settle charges, in a deal that is under review by the SEC. The company said it was unable to estimate the amount it needed to set aside for legal reserves, which it previously set at $500m. It intends to adjust the way it accounts for a deal with German music publisher Bertelsmann's purchase of a stake in AOL Europe, which it had reported as advertising revenue. It will now book the sale of its stake in AOL Europe as a loss on the value of that stake.\n",
      "\n",
      "Actual Summary:  TimeWarner said fourth quarter sales rose 2% to $11.1bn from $10.9bn.For the full-year, TimeWarner posted a profit of $3.36bn, up 27% from its 2003 performance, while revenues grew 6.4% to $42.09bn.Quarterly profits at US media giant TimeWarner jumped 76% to $1.13bn (Â£600m) for the three months to December, from $639m year-earlier.However, the company said AOL's underlying profit before exceptional items rose 8% on the back of stronger internet advertising revenues.Its profits were buoyed by one-off gains which offset a profit dip at Warner Bros, and less users for AOL.For 2005, TimeWarner is projecting operating earnings growth of around 5%, and also expects higher revenue and wider profit margins.It lost 464,000 subscribers in the fourth quarter profits were lower than in the preceding three quarters.Time Warner's fourth quarter profits were slightly better than analysts' expectations.\n",
      "Summary by FBA:  Its profits were buoyed by one-off gains which offset a profit dip at Warner Bros, and less users for AOL.\n",
      "Summary by TFIDF:  It intends to adjust the way it accounts for a deal with German music publisher Bertelsmann's purchase of a stake in AOL Europe, which it had reported as advertising revenue.\n",
      "Summary by Text Rank:  But its film division saw profits slump 27% to $284m, helped by box-office flops Alexander and Catwoman, a sharp contrast to year-earlier, when the third and final film in the Lord of the Rings trilogy boosted results.\n",
      "Actual Article:   Dollar gains on Greenspan speech\n",
      "\n",
      "The dollar has hit its highest level against the euro in almost three months after the Federal Reserve head said the US trade deficit is set to stabilise.\n",
      "\n",
      "And Alan Greenspan highlighted the US government's willingness to curb spending and rising household savings as factors which may help to reduce it. In late trading in New York, the dollar reached $1.2871 against the euro, from $1.2974 on Thursday. Market concerns about the deficit has hit the greenback in recent months. On Friday, Federal Reserve chairman Mr Greenspan's speech in London ahead of the meeting of G7 finance ministers sent the dollar higher after it had earlier tumbled on the back of worse-than-expected US jobs data. \"I think the chairman's taking a much more sanguine view on the current account deficit than he's taken for some time,\" said Robert Sinche, head of currency strategy at Bank of America in New York. \"He's taking a longer-term view, laying out a set of conditions under which the current account deficit can improve this year and next.\"\n",
      "\n",
      "Worries about the deficit concerns about China do, however, remain. China's currency remains pegged to the dollar and the US currency's sharp falls in recent months have therefore made Chinese export prices highly competitive. But calls for a shift in Beijing's policy have fallen on deaf ears, despite recent comments in a major Chinese newspaper that the \"time is ripe\" for a loosening of the peg. The G7 meeting is thought unlikely to produce any meaningful movement in Chinese policy. In the meantime, the US Federal Reserve's decision on 2 February to boost interest rates by a quarter of a point - the sixth such move in as many months - has opened up a differential with European rates. The half-point window, some believe, could be enough to keep US assets looking more attractive, and could help prop up the dollar. The recent falls have partly been the result of big budget deficits, as well as the US's yawning current account gap, both of which need to be funded by the buying of US bonds and assets by foreign firms and governments. The White House will announce its budget on Monday, and many commentators believe the deficit will remain at close to half a trillion dollars.\n",
      "\n",
      "Actual Summary:  The dollar has hit its highest level against the euro in almost three months after the Federal Reserve head said the US trade deficit is set to stabilise.China's currency remains pegged to the dollar and the US currency's sharp falls in recent months have therefore made Chinese export prices highly competitive.Market concerns about the deficit has hit the greenback in recent months.\"I think the chairman's taking a much more sanguine view on the current account deficit than he's taken for some time,\" said Robert Sinche, head of currency strategy at Bank of America in New York.The recent falls have partly been the result of big budget deficits, as well as the US's yawning current account gap, both of which need to be funded by the buying of US bonds and assets by foreign firms and governments.\"He's taking a longer-term view, laying out a set of conditions under which the current account deficit can improve this year and next.\"\n",
      "Summary by FBA:  The half-point window, some believe, could be enough to keep US assets looking more attractive, and could help prop up the dollar.\n",
      "Summary by TFIDF:  Worries about the deficit concerns about China do, however, remain.\n",
      "Summary by Text Rank:  The recent falls have partly been the result of big budget deficits, as well as the US's yawning current account gap, both of which need to be funded by the buying of US bonds and assets by foreign firms and governments.\n",
      "Actual Article:   Yukos unit buyer faces loan claim\n",
      "\n",
      "The owners of embattled Russian oil giant Yukos are to ask the buyer of its former production unit to pay back a $900m (Â£479m) loan.\n",
      "\n",
      "State-owned Rosneft bought the Yugansk unit for $9.3bn in a sale forced by Russia to part settle a $27.5bn tax claim against Yukos. Yukos' owner Menatep Group says it will ask Rosneft to repay a loan that Yugansk had secured on its assets. Rosneft already faces a similar $540m repayment demand from foreign banks. Legal experts said Rosneft's purchase of Yugansk would include such obligations. \"The pledged assets are with Rosneft, so it will have to pay real money to the creditors to avoid seizure of Yugansk assets,\" said Moscow-based US lawyer Jamie Firestone, who is not connected to the case. Menatep Group's managing director Tim Osborne told the Reuters news agency: \"If they default, we will fight them where the rule of law exists under the international arbitration clauses of the credit.\"\n",
      "\n",
      "Rosneft officials were unavailable for comment. But the company has said it intends to take action against Menatep to recover some of the tax claims and debts owed by Yugansk. Yukos had filed for bankruptcy protection in a US court in an attempt to prevent the forced sale of its main production arm. The sale went ahead in December and Yugansk was sold to a little-known shell company which in turn was bought by Rosneft. Yukos claims its downfall was punishment for the political ambitions of its founder Mikhail Khodorkovsky and has vowed to sue any participant in the sale.\n",
      "\n",
      "Actual Summary:  Yukos' owner Menatep Group says it will ask Rosneft to repay a loan that Yugansk had secured on its assets.State-owned Rosneft bought the Yugansk unit for $9.3bn in a sale forced by Russia to part settle a $27.5bn tax claim against Yukos.The sale went ahead in December and Yugansk was sold to a little-known shell company which in turn was bought by Rosneft.But the company has said it intends to take action against Menatep to recover some of the tax claims and debts owed by Yugansk.\"The pledged assets are with Rosneft, so it will have to pay real money to the creditors to avoid seizure of Yugansk assets,\" said Moscow-based US lawyer Jamie Firestone, who is not connected to the case.\n",
      "Summary by FBA:  State-owned Rosneft bought the Yugansk unit for $9.3bn in a sale forced by Russia to part settle a $27.5bn tax claim against Yukos.\n",
      "Summary by TFIDF:  Yukos had filed for bankruptcy protection in a US court in an attempt to prevent the forced sale of its main production arm.\n",
      "Summary by Text Rank:  State-owned Rosneft bought the Yugansk unit for $9.3bn in a sale forced by Russia to part settle a $27.5bn tax claim against Yukos.\n"
     ]
    }
   ],
   "source": [
    "\n",
    "for i in range(3):\n",
    "\n",
    "    print(\"Actual Article:  \", articles[i])\n",
    "    print(\"Actual Summary: \",summary[i])\n",
    "    print(\"Summary by FBA: \",pred_summary_fba[i])\n",
    "    print(\"Summary by TFIDF: \",pred_summary_tfidf[i])\n",
    "    print(\"Summary by Text Rank: \",pred_summary_textRank[i][0])\n",
    "\n",
    "    "
   ]
  },
  {
   "cell_type": "code",
   "execution_count": 15,
   "metadata": {},
   "outputs": [
    {
     "name": "stdout",
     "output_type": "stream",
     "text": [
      "100 100 100\n"
     ]
    }
   ],
   "source": [
    "\n",
    "# get rouge score for each algorithm\n",
    "\n",
    "rouge_fba=[]\n",
    "rouge_tfidf=[]\n",
    "rouge_textRank=[]\n",
    "\n",
    "\n",
    "\n",
    "for i in range(len(articles)):\n",
    "\n",
    "    a=getRouge(summary[i],pred_summary_fba[i])\n",
    "    b=getRouge(summary[i],pred_summary_tfidf[i])\n",
    "    c=getRouge(summary[i],pred_summary_textRank[i][0])\n",
    "\n",
    "    a_f=a[0]['rouge-1']['f']\n",
    "\n",
    "    b_f=b[0]['rouge-1']['f']\n",
    "\n",
    "    c_f=c[0]['rouge-1']['f']\n",
    "\n",
    "    rouge_fba.append(a_f)\n",
    "    rouge_tfidf.append(b_f)\n",
    "    rouge_textRank.append(c_f)\n",
    "\n",
    "\n",
    "\n",
    "print(len(rouge_fba),len(rouge_tfidf),len(rouge_textRank))"
   ]
  },
  {
   "cell_type": "code",
   "execution_count": 16,
   "metadata": {},
   "outputs": [
    {
     "data": {
      "image/png": "[encoded data removed]",
      "text/plain": [
       "<Figure size 640x480 with 1 Axes>"
      ]
     },
     "metadata": {},
     "output_type": "display_data"
    }
   ],
   "source": [
    "\n",
    "from matplotlib import pyplot as plt\n",
    "\n",
    "plt.plot(rouge_fba)\n",
    "plt.plot(rouge_tfidf)\n",
    "plt.plot(rouge_textRank)\n",
    "plt.legend(['FBA','TF-IDF','Text Rank'])\n",
    "plt.show()"
   ]
  },
  {
   "cell_type": "code",
   "execution_count": 17,
   "metadata": {},
   "outputs": [
    {
     "data": {
      "text/plain": [
       "0.2770363133475941"
      ]
     },
     "execution_count": 17,
     "metadata": {},
     "output_type": "execute_result"
    }
   ],
   "source": [
    "\n",
    "avg_tfidf=np.mean(rouge_tfidf)\n",
    "avg_tfidf"
   ]
  },
  {
   "cell_type": "code",
   "execution_count": 18,
   "metadata": {},
   "outputs": [
    {
     "data": {
      "text/plain": [
       "0.31625682669317934"
      ]
     },
     "execution_count": 18,
     "metadata": {},
     "output_type": "execute_result"
    }
   ],
   "source": [
    "\n",
    "avg_tr=np.mean(rouge_textRank)\n",
    "avg_tr"
   ]
  },
  {
   "cell_type": "code",
   "execution_count": 19,
   "metadata": {},
   "outputs": [],
   "source": [
    "\n",
    "news_1=\"NEW DELHI: Indian iron ore miner NMDC Ltd is in talks with Australia's Hancock Prospecting Pty Ltd for lithium exploration and mining, a source familiar with the matter told Reuters on Tuesday.Countries across the world are racing to secure lithium supplies for rechargeable batteries for future fleets of electric vehicles in the global transition to green energy.India, which found its first reserves of the mineral in February, has also been exploring ways to shore up supplies by acquiring overseas mines.Lithium exploration is at a very nascent stage, but we are talking to Hancock Prospecting for their investments into it, said the source, who didn't want to be named because he is not authorised to talk to media. NMDC shares rose as much as 1.8% Tuesday on the news. The miner did not immediately respond to a request for comment.Separately, NMDC is also working on plans to export low-grade iron ore to China, the source said. The miner could collaborate with another company to process and ship out the ore to China, he said.China is India's biggest iron ore customer, importing around 80% of India's overall shipments.Indian producers of low-grade ores largely depend on foreign markets because most major domestic steel producers use high-grade iron ores.NMDC is also expecting to receive forest clearances by June for diamond mining in the central Indian state of Madhya Pradesh, the source said.The mine produces around 10 carats of diamond per 100 tonnes of Kimberlite processed, according to the details provided by the company on its website.\"\n",
    "\n",
    "news_2=\"Five-time champions Mumbai Indians' class and pedigree will once again be tested when they take on an unpredictable Punjab Kings in a crucial Indian Premier League match in Mohali on May 3.A win will give MI the much-needed push on the points table, while a loss will see them slip further and chart a familiar course like the previous edition. MI had finished 10th and last in the previous edition.he Mumbai team is currently placed seventh with eight points from eight matches and things are not looking great for Rohit Sharma's side.The win against Rajasthan Royals at the Wankhede Stadium on April 30, though, would have instilled a fair bit of confidence in the MI team after it chased down a massive 212 with three balls to spare to earn two valuable points.The win was crafted by Singapore-born Australian cricketer Tim David, who smashed three sixes on the trot in the final over during his 14-ball unbeaten 45 to snatch victory from the jaws of defeat.While there were vital contributions from India's T20 specialist batter Suryakumar Yadav (55), tall Australian all-rounder Cameron Green (44), Ishan Kishan (28) and Tilak Varma (29 not out), none could match the ferocity of David's strokes.The 27-year-old middle-order batter smashed five sixes and two boundaries at a strike rate in excess of 300 as Mumbai Indians won on home turf.A similar commitment would be required against Punjab Kings, who are known to play aggressive cricket, though their biggest drawback is an unreliable top order.Barring Shikhar Dhawan and to an extent his opening partner Prabhsimran Singh, very few PBKS batters have contributed enough to their overall totals, though all that changed in their previous game against Chennai Super Kings at Chepauk on April 30.Set a stiff 200-run target by MS Dhoni's side, the entire top and middle-order came to the party to win a last-ball thriller by four wickets. With Prabhsimran and Dhawan laying a good foundation in powerplay, England all-rounder Liam Livingstone, Sam Curran and wicketkeeper-batter Jitesh Sharma all chipped in to make it a memorable chase.The team, though, will likely have to face the fiery pace of Mumbai Indians' Jofra Archer, who was back in the game against Rajasthan Royals, bowling his quota of overs and taking a wicket as well.MI skipper Rohit's form, though, is the biggest concern for the five-time IPL champions and much would depend on the India captain on Wednesday to shore up his side, after contributing just three runs in the match against the Royals.\"\n",
    "\n",
    "\n",
    "summary_fba_1=generate_summaryfba(news_1,1)\n",
    "pred_summary_tfidf_1=generate_summarytfidf(news_1,1)\n",
    "pred_summary_textRank_1=generateTextRank(news_1)\n",
    "\n",
    "\n",
    "summary_fba_2=generate_summaryfba(news_2,1)\n",
    "pred_summary_tfidf_2=generate_summarytfidf(news_2,1)\n",
    "pred_summary_textRank_2=generateTextRank(news_2)\n"
   ]
  },
  {
   "cell_type": "code",
   "execution_count": 20,
   "metadata": {},
   "outputs": [
    {
     "name": "stdout",
     "output_type": "stream",
     "text": [
      "Actual Text:  NEW DELHI: Indian iron ore miner NMDC Ltd is in talks with Australia's Hancock Prospecting Pty Ltd for lithium exploration and mining, a source familiar with the matter told Reuters on Tuesday.Countries across the world are racing to secure lithium supplies for rechargeable batteries for future fleets of electric vehicles in the global transition to green energy.India, which found its first reserves of the mineral in February, has also been exploring ways to shore up supplies by acquiring overseas mines.Lithium exploration is at a very nascent stage, but we are talking to Hancock Prospecting for their investments into it, said the source, who didn't want to be named because he is not authorised to talk to media. NMDC shares rose as much as 1.8% Tuesday on the news. The miner did not immediately respond to a request for comment.Separately, NMDC is also working on plans to export low-grade iron ore to China, the source said. The miner could collaborate with another company to process and ship out the ore to China, he said.China is India's biggest iron ore customer, importing around 80% of India's overall shipments.Indian producers of low-grade ores largely depend on foreign markets because most major domestic steel producers use high-grade iron ores.NMDC is also expecting to receive forest clearances by June for diamond mining in the central Indian state of Madhya Pradesh, the source said.The mine produces around 10 carats of diamond per 100 tonnes of Kimberlite processed, according to the details provided by the company on its website.\n",
      "\n",
      "\n",
      "Summary by FBA:  The miner did not immediately respond to a request for comment.Separately, NMDC is also working on plans to export low-grade iron ore to China, the source said.\n",
      "\n",
      "\n",
      "Summary by TFIDF:  The miner did not immediately respond to a request for comment.Separately, NMDC is also working on plans to export low-grade iron ore to China, the source said.\n",
      "\n",
      "\n",
      "Summary by TextRank :  The miner did not immediately respond to a request for comment.Separately, NMDC is also working on plans to export low-grade iron ore to China, the source said.\n"
     ]
    }
   ],
   "source": [
    "\n",
    "\n",
    "print(\"Actual Text: \",news_1)\n",
    "print(\"\\n\\nSummary by FBA: \",summary_fba_1)\n",
    "print(\"\\n\\nSummary by TFIDF: \",pred_summary_tfidf_1)\n",
    "print(\"\\n\\nSummary by TextRank : \",pred_summary_textRank_1[0])\n"
   ]
  },
  {
   "cell_type": "code",
   "execution_count": 21,
   "metadata": {},
   "outputs": [
    {
     "name": "stdout",
     "output_type": "stream",
     "text": [
      "Actual Text:  Five-time champions Mumbai Indians' class and pedigree will once again be tested when they take on an unpredictable Punjab Kings in a crucial Indian Premier League match in Mohali on May 3.A win will give MI the much-needed push on the points table, while a loss will see them slip further and chart a familiar course like the previous edition. MI had finished 10th and last in the previous edition.he Mumbai team is currently placed seventh with eight points from eight matches and things are not looking great for Rohit Sharma's side.The win against Rajasthan Royals at the Wankhede Stadium on April 30, though, would have instilled a fair bit of confidence in the MI team after it chased down a massive 212 with three balls to spare to earn two valuable points.The win was crafted by Singapore-born Australian cricketer Tim David, who smashed three sixes on the trot in the final over during his 14-ball unbeaten 45 to snatch victory from the jaws of defeat.While there were vital contributions from India's T20 specialist batter Suryakumar Yadav (55), tall Australian all-rounder Cameron Green (44), Ishan Kishan (28) and Tilak Varma (29 not out), none could match the ferocity of David's strokes.The 27-year-old middle-order batter smashed five sixes and two boundaries at a strike rate in excess of 300 as Mumbai Indians won on home turf.A similar commitment would be required against Punjab Kings, who are known to play aggressive cricket, though their biggest drawback is an unreliable top order.Barring Shikhar Dhawan and to an extent his opening partner Prabhsimran Singh, very few PBKS batters have contributed enough to their overall totals, though all that changed in their previous game against Chennai Super Kings at Chepauk on April 30.Set a stiff 200-run target by MS Dhoni's side, the entire top and middle-order came to the party to win a last-ball thriller by four wickets. With Prabhsimran and Dhawan laying a good foundation in powerplay, England all-rounder Liam Livingstone, Sam Curran and wicketkeeper-batter Jitesh Sharma all chipped in to make it a memorable chase.The team, though, will likely have to face the fiery pace of Mumbai Indians' Jofra Archer, who was back in the game against Rajasthan Royals, bowling his quota of overs and taking a wicket as well.MI skipper Rohit's form, though, is the biggest concern for the five-time IPL champions and much would depend on the India captain on Wednesday to shore up his side, after contributing just three runs in the match against the Royals.\n",
      "\n",
      "\n",
      "Summary by TFIDF:  MI had finished 10th and last in the previous edition.he Mumbai team is currently placed seventh with eight points from eight matches and things are not looking great for Rohit Sharma's side.The win against Rajasthan Royals at the Wankhede Stadium on April 30, though, would have instilled a fair bit of confidence in the MI team after it chased down a massive 212 with three balls to spare to earn two valuable points.The win was crafted by Singapore-born Australian cricketer Tim David, who smashed three sixes on the trot in the final over during his 14-ball unbeaten 45 to snatch victory from the jaws of defeat.While there were vital contributions from India's T20 specialist batter Suryakumar Yadav (55), tall Australian all-rounder Cameron Green (44), Ishan Kishan (28) and Tilak Varma (29 not out), none could match the ferocity of David's strokes.The 27-year-old middle-order batter smashed five sixes and two boundaries at a strike rate in excess of 300 as Mumbai Indians won on home turf.A similar commitment would be required against Punjab Kings, who are known to play aggressive cricket, though their biggest drawback is an unreliable top order.Barring Shikhar Dhawan and to an extent his opening partner Prabhsimran Singh, very few PBKS batters have contributed enough to their overall totals, though all that changed in their previous game against Chennai Super Kings at Chepauk on April 30.Set a stiff 200-run target by MS Dhoni's side, the entire top and middle-order came to the party to win a last-ball thriller by four wickets.\n",
      "\n",
      "\n",
      "Summary by TextRank :  With Prabhsimran and Dhawan laying a good foundation in powerplay, England all-rounder Liam Livingstone, Sam Curran and wicketkeeper-batter Jitesh Sharma all chipped in to make it a memorable chase.The team, though, will likely have to face the fiery pace of Mumbai Indians' Jofra Archer, who was back in the game against Rajasthan Royals, bowling his quota of overs and taking a wicket as well.MI skipper Rohit's form, though, is the biggest concern for the five-time IPL champions and much would depend on the India captain on Wednesday to shore up his side, after contributing just three runs in the match against the Royals.\n"
     ]
    }
   ],
   "source": [
    "\n",
    "\n",
    "print(\"Actual Text: \",news_2)\n",
    "print(\"\\n\\nSummary by TFIDF: \",pred_summary_tfidf_2)\n",
    "print(\"\\n\\nSummary by TextRank : \",pred_summary_textRank_2[0])\n"
   ]
  },
  {
   "cell_type": "code",
   "execution_count": 22,
   "metadata": {},
   "outputs": [
    {
     "name": "stdout",
     "output_type": "stream",
     "text": [
      "His area of research includes data analytics, recommender system, data security and data mining. He has attended more than thirty different programs such as a faculty development program, seminar and workshop in national and international level. He has achieved CSI Young IT Professional award in 2013 and Best Faculty award for good academic performance in 2013 and 2014.\n"
     ]
    }
   ],
   "source": [
    "\n",
    "text='Dr. Abhaya Kumar Sahoo is currently working as an Associate Professor in School of Computer Engineering, KIIT Deemed to be University, Odisha. He has completed his B. Tech, M. Tech and Ph.D. from KIIT Deemed to be University in 2010, 2012 and 2021 respectively. He has received Founder’s Gold Medal and Chancellor’s Gold Medal in M. Tech. He has 8 years teaching experience and 1 year industry experience. His favourite teaching subjects include big data, operating system, web technology, computer organization and database. His area of research includes data analytics, recommender system, data security and data mining. He has published more than 20 research papers in national and international conferences and journals. He guides undergraduate and post graduate students in different project. He has also published more than five book chapters in different reputed books. He is involved in different academic activities such as organizing committee member in international conferences, reviewers in international journals, keynote speaker in workshop and different accreditation activities. He has attended more than thirty different programs such as a faculty development program, seminar and workshop in national and international level. He was Odisha State Student Coordinator in Computer Society of India during 2019-20. He has achieved CSI Young IT Professional award in 2013 and Best Faculty award for good academic performance in 2013 and 2014. He is the life member of CSI, IAENG, CSTA and IET.'\n",
    "\n",
    "\n",
    "summary_fba=generate_summaryfba(text,3)\n",
    "\n",
    "print(summary_fba)\n"
   ]
  },
  {
   "cell_type": "code",
   "execution_count": 23,
   "metadata": {},
   "outputs": [
    {
     "data": {
      "text/plain": [
       "'Dr. Abhaya Kumar Sahoo is currently working as an Associate Professor in School of Computer Engineering, KIIT Deemed to be University, Odisha. He is involved in different academic activities such as organizing committee member in international conferences, reviewers in international journals, keynote speaker in workshop and different accreditation activities. He has achieved CSI Young IT Professional award in 2013 and Best Faculty award for good academic performance in 2013 and 2014.'"
      ]
     },
     "execution_count": 23,
     "metadata": {},
     "output_type": "execute_result"
    }
   ],
   "source": [
    "\n",
    "summary2=generate_summarytfidf(text,3)\n",
    "summary2"
   ]
  },
  {
   "cell_type": "code",
   "execution_count": 25,
   "metadata": {},
   "outputs": [
    {
     "data": {
      "text/plain": [
       "['He has attended more than thirty different programs such as a faculty development program, seminar and workshop in national and international level.',\n",
       " 'He has published more than 20 research papers in national and international conferences and journals.',\n",
       " 'He is involved in different academic activities such as organizing committee member in international conferences, reviewers in international journals, keynote speaker in workshop and different accreditation activities.']"
      ]
     },
     "execution_count": 25,
     "metadata": {},
     "output_type": "execute_result"
    }
   ],
   "source": [
    "\n",
    "sum3=generateTextRank(text)\n",
    "\n",
    "sum3"
   ]
  }
 ],
 "metadata": {
  "kernelspec": {
   "display_name": "Python 3 (ipykernel)",
   "language": "python",
   "name": "python3"
  },
  "language_info": {
   "codemirror_mode": {
    "name": "ipython",
    "version": 3
   },
   "file_extension": ".py",
   "mimetype": "text/x-python",
   "name": "python",
   "nbconvert_exporter": "python",
   "pygments_lexer": "ipython3",
   "version": "3.10.7"
  }
 },
 "nbformat": 4,
 "nbformat_minor": 2
}
